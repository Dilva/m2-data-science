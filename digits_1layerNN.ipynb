{
 "cells": [
  {
   "cell_type": "markdown",
   "metadata": {
    "ExecuteTime": {
     "end_time": "2020-03-25T10:58:35.690198Z",
     "start_time": "2020-03-25T10:58:35.684650Z"
    }
   },
   "source": [
    "# Reconnaissance de chiffres manuscrits (réseau de neurones à une seule couche)"
   ]
  },
  {
   "cell_type": "markdown",
   "metadata": {
    "toc": true
   },
   "source": [
    "<h1>Table of Contents<span class=\"tocSkip\"></span></h1>\n",
    "<div class=\"toc\"><ul class=\"toc-item\"><li><span><a href=\"#Reconnaissance-de-chiffres-manuscrits-(réseau-de-neurones-à-une-seule-couche)\" data-toc-modified-id=\"Reconnaissance-de-chiffres-manuscrits-(réseau-de-neurones-à-une-seule-couche)-1\">Reconnaissance de chiffres manuscrits (réseau de neurones à une seule couche)</a></span></li><li><span><a href=\"#Données\" data-toc-modified-id=\"Données-2\">Données</a></span><ul class=\"toc-item\"><li><span><a href=\"#Import\" data-toc-modified-id=\"Import-2.1\">Import</a></span></li><li><span><a href=\"#Transformation-et-encodage\" data-toc-modified-id=\"Transformation-et-encodage-2.2\">Transformation et encodage</a></span></li><li><span><a href=\"#Images\" data-toc-modified-id=\"Images-2.3\">Images</a></span></li></ul></li><li><span><a href=\"#Classifieur-à-une-seule-couche-cachée-(sans-biais)\" data-toc-modified-id=\"Classifieur-à-une-seule-couche-cachée-(sans-biais)-3\">Classifieur à une seule couche cachée (sans biais)</a></span><ul class=\"toc-item\"><li><span><a href=\"#Nombre-de-perceptrons\" data-toc-modified-id=\"Nombre-de-perceptrons-3.1\">Nombre de perceptrons</a></span></li><li><span><a href=\"#Epochs\" data-toc-modified-id=\"Epochs-3.2\">Epochs</a></span></li></ul></li><li><span><a href=\"#Classifieur-à-une-seule-couche-cachée-(avec-biais)\" data-toc-modified-id=\"Classifieur-à-une-seule-couche-cachée-(avec-biais)-4\">Classifieur à une seule couche cachée (avec biais)</a></span></li></ul></div>"
   ]
  },
  {
   "cell_type": "code",
   "execution_count": 3,
   "metadata": {
    "ExecuteTime": {
     "end_time": "2020-03-13T08:20:18.619668Z",
     "start_time": "2020-03-13T08:20:13.471019Z"
    }
   },
   "outputs": [],
   "source": [
    "%matplotlib inline\n",
    "import math\n",
    "import pandas as pd\n",
    "import numpy as np\n",
    "import matplotlib.pyplot as plt\n",
    "from tqdm.notebook import tqdm"
   ]
  },
  {
   "cell_type": "markdown",
   "metadata": {},
   "source": [
    "# Données "
   ]
  },
  {
   "cell_type": "markdown",
   "metadata": {},
   "source": [
    "## Import"
   ]
  },
  {
   "cell_type": "code",
   "execution_count": 4,
   "metadata": {
    "ExecuteTime": {
     "end_time": "2020-03-13T08:21:02.366751Z",
     "start_time": "2020-03-13T08:20:18.624485Z"
    }
   },
   "outputs": [],
   "source": [
    "train_data = np.loadtxt(\"data/digits_train.csv\", delimiter=',')\n",
    "test_data = np.loadtxt(\"data/digits_test.csv\", delimiter=\",\")\n",
    "\n",
    "# D: 28*28 (img) + 1 (classe)"
   ]
  },
  {
   "cell_type": "code",
   "execution_count": 5,
   "metadata": {
    "ExecuteTime": {
     "end_time": "2020-03-13T08:21:02.414196Z",
     "start_time": "2020-03-13T08:21:02.375198Z"
    }
   },
   "outputs": [
    {
     "name": "stdout",
     "output_type": "stream",
     "text": [
      "(60000, 785)\n"
     ]
    },
    {
     "data": {
      "text/plain": [
       "array([[5., 0., 0., ..., 0., 0., 0.],\n",
       "       [0., 0., 0., ..., 0., 0., 0.],\n",
       "       [4., 0., 0., ..., 0., 0., 0.],\n",
       "       ...,\n",
       "       [5., 0., 0., ..., 0., 0., 0.],\n",
       "       [6., 0., 0., ..., 0., 0., 0.],\n",
       "       [8., 0., 0., ..., 0., 0., 0.]])"
      ]
     },
     "execution_count": 5,
     "metadata": {},
     "output_type": "execute_result"
    }
   ],
   "source": [
    "print(train_data.shape)\n",
    "train_data"
   ]
  },
  {
   "cell_type": "code",
   "execution_count": 6,
   "metadata": {
    "ExecuteTime": {
     "end_time": "2020-03-13T08:21:02.438898Z",
     "start_time": "2020-03-13T08:21:02.424790Z"
    }
   },
   "outputs": [
    {
     "name": "stdout",
     "output_type": "stream",
     "text": [
      "(10000, 785)\n"
     ]
    },
    {
     "data": {
      "text/plain": [
       "array([[7., 0., 0., ..., 0., 0., 0.],\n",
       "       [2., 0., 0., ..., 0., 0., 0.],\n",
       "       [1., 0., 0., ..., 0., 0., 0.],\n",
       "       ...,\n",
       "       [4., 0., 0., ..., 0., 0., 0.],\n",
       "       [5., 0., 0., ..., 0., 0., 0.],\n",
       "       [6., 0., 0., ..., 0., 0., 0.]])"
      ]
     },
     "execution_count": 6,
     "metadata": {},
     "output_type": "execute_result"
    }
   ],
   "source": [
    "print(test_data.shape)\n",
    "test_data"
   ]
  },
  {
   "cell_type": "markdown",
   "metadata": {},
   "source": [
    "## Transformation et encodage"
   ]
  },
  {
   "cell_type": "code",
   "execution_count": 7,
   "metadata": {
    "ExecuteTime": {
     "end_time": "2020-03-13T08:21:03.257829Z",
     "start_time": "2020-03-13T08:21:02.443883Z"
    }
   },
   "outputs": [
    {
     "name": "stdout",
     "output_type": "stream",
     "text": [
      "(10000, 784)\n"
     ]
    },
    {
     "data": {
      "text/plain": [
       "(array([[0.01, 0.01, 0.01, ..., 0.01, 0.01, 0.01],\n",
       "        [0.01, 0.01, 0.01, ..., 0.01, 0.01, 0.01],\n",
       "        [0.01, 0.01, 0.01, ..., 0.01, 0.01, 0.01],\n",
       "        ...,\n",
       "        [0.01, 0.01, 0.01, ..., 0.01, 0.01, 0.01],\n",
       "        [0.01, 0.01, 0.01, ..., 0.01, 0.01, 0.01],\n",
       "        [0.01, 0.01, 0.01, ..., 0.01, 0.01, 0.01]]),\n",
       " array([[0, 0, 0, ..., 1, 0, 0],\n",
       "        [0, 0, 1, ..., 0, 0, 0],\n",
       "        [0, 1, 0, ..., 0, 0, 0],\n",
       "        ...,\n",
       "        [0, 0, 0, ..., 0, 0, 0],\n",
       "        [0, 0, 0, ..., 0, 0, 0],\n",
       "        [0, 0, 0, ..., 0, 0, 0]], dtype=uint8))"
      ]
     },
     "execution_count": 7,
     "metadata": {},
     "output_type": "execute_result"
    }
   ],
   "source": [
    "std = 0.98/255\n",
    "\n",
    "train = np.asfarray(train_data[:, 1:]) * std + 0.01\n",
    "#train = np.array([t[1:] for t in train_data]) * std + 0.01\n",
    "train_labels = np.array(pd.get_dummies([t[0] for t in train_data]))\n",
    "#train_labels = np.asfarray(train_data[:, 0]) \n",
    "\n",
    "test = np.asfarray(test_data[:, 1:]) * std + 0.01\n",
    "#test = np.array([t[1:] for t in test_data]) * std + 0.01\n",
    "test_labels = np.array(pd.get_dummies([t[0] for t in test_data]))\n",
    "#test_labels = np.asfarray(test_data[:, 0])\n",
    "\n",
    "print(test.shape)\n",
    "test, test_labels"
   ]
  },
  {
   "cell_type": "markdown",
   "metadata": {},
   "source": [
    "## Images"
   ]
  },
  {
   "cell_type": "code",
   "execution_count": 88,
   "metadata": {
    "ExecuteTime": {
     "end_time": "2020-03-12T18:55:16.163835Z",
     "start_time": "2020-03-12T18:55:16.007193Z"
    }
   },
   "outputs": [
    {
     "data": {
      "image/png": "[encoded data removed]",
      "text/plain": [
       "<Figure size 432x288 with 1 Axes>"
      ]
     },
     "metadata": {},
     "output_type": "display_data"
    }
   ],
   "source": [
    "plt.imshow(train[15].reshape((28,28)));"
   ]
  },
  {
   "cell_type": "code",
   "execution_count": 73,
   "metadata": {
    "ExecuteTime": {
     "end_time": "2020-03-12T18:54:39.300676Z",
     "start_time": "2020-03-12T18:54:39.150471Z"
    }
   },
   "outputs": [
    {
     "data": {
      "image/png": "[encoded data removed]",
      "text/plain": [
       "<Figure size 432x288 with 1 Axes>"
      ]
     },
     "metadata": {},
     "output_type": "display_data"
    }
   ],
   "source": [
    "plt.imshow(train[0].reshape((28,28)));"
   ]
  },
  {
   "cell_type": "markdown",
   "metadata": {},
   "source": [
    "# Classifieur à une seule couche cachée (sans biais)"
   ]
  },
  {
   "cell_type": "code",
   "execution_count": 140,
   "metadata": {
    "ExecuteTime": {
     "end_time": "2020-03-13T09:49:24.885343Z",
     "start_time": "2020-03-13T09:49:24.880068Z"
    }
   },
   "outputs": [],
   "source": [
    "@np.vectorize\n",
    "def sigmoid(x):\n",
    "    return 1/(1+ math.exp(-x))"
   ]
  },
  {
   "cell_type": "code",
   "execution_count": 151,
   "metadata": {
    "ExecuteTime": {
     "end_time": "2020-03-13T09:53:35.922892Z",
     "start_time": "2020-03-13T09:53:35.507958Z"
    }
   },
   "outputs": [],
   "source": [
    "class NeuralNetwork():\n",
    "    \n",
    "    def __init__(self, nb_input, nb_perceptrons, nb_output, lr):\n",
    "        self.nb_input = nb_input               # Taille d'une donnée\n",
    "        self.nb_perceptrons = nb_perceptrons   # Nombre de perceptrons dans la couche cachée\n",
    "        self.nb_output = nb_output             # Nombre de classes\n",
    "        self.lr = lr                           # Learning rate\n",
    "        self.init_matrix()                     # Méthode d'initialisation des matrices de poids\n",
    "        \n",
    "    def init_matrix(self):\n",
    "        \n",
    "        # Poids input -> couche cachée\n",
    "        self.W_hl = np.random.normal(0, 1, (self.nb_perceptrons, self.nb_input))\n",
    "        # Poids couche cachée -> output\n",
    "        self.W_o = np.random.normal(0, 1, (self.nb_output, self.nb_perceptrons))\n",
    "\n",
    "        \n",
    "    def train_one(self, input_data, target):\n",
    "        \"\"\"\n",
    "        Entrainement sur une donnée\n",
    "        \"\"\"\n",
    "        \n",
    "        input_vector = np.array(input_data, ndmin=2).T\n",
    "        target_vector = np.array(target, ndmin=2).T\n",
    "\n",
    "        # Couce cachée + activation\n",
    "        output_vector1 = np.dot(self.W_hl, input_vector)\n",
    "        output_hidden = sigmoid(output_vector1)\n",
    "\n",
    "        # Sortie + activation\n",
    "        output_vector2 = np.dot(self.W_o, output_hidden)\n",
    "        output = sigmoid(output_vector2)\n",
    "\n",
    "        # Erreur en sortie\n",
    "        output_errors = target_vector - output\n",
    "\n",
    "        # Retro-propagation\n",
    "        tmp = - output_errors * output * (1. - output)  # expression du gradient par activation sigmoid\n",
    "\n",
    "            # Couche cachée\n",
    "        tmp = self.lr * np.dot(tmp, output_hidden.T)\n",
    "        self.W_o = self.W_o - tmp                       # W <- W - lr*∇\n",
    "        hidden_errors = np.dot(self.W_o.T, output_errors)\n",
    "        \n",
    "            # Input\n",
    "        tmp = - hidden_errors * output_hidden * (1. - output_hidden)\n",
    "        self.W_hl = self.W_hl - self.lr * np.dot(tmp, input_vector.T)\n",
    "    \n",
    "    \n",
    "    def train(self, data, targets):\n",
    "        \"\"\"\n",
    "        Entrainement sur tout le dataset\n",
    "        \"\"\"\n",
    "        \n",
    "        for i in range(len(data)):\n",
    "            self.train_one(data[i], targets[i])\n",
    "    \n",
    "    def predict(self, input_vector):\n",
    "        \"\"\"\n",
    "        Prediction de la classe d'une donnée\n",
    "        \n",
    "        Returns :\n",
    "        array(10,) : résultat par classe\n",
    "        \"\"\"\n",
    "        \n",
    "        input_vector = np.array(input_vector, ndmin=2).T\n",
    "        \n",
    "        output_vector1 = np.dot(self.W_hl, input_vector)\n",
    "        hidden_layer = sigmoid(output_vector1)\n",
    "        \n",
    "        output_vector2 = np.dot(self.W_o, hidden_layer)\n",
    "        output = sigmoid(output_vector2)\n",
    "        \n",
    "        return output\n",
    "    \n",
    "    \n",
    "    def accuracy(self, data, labels):\n",
    "        \"\"\"\n",
    "        Calcul de la précision \n",
    "        \"\"\"\n",
    "        \n",
    "        corrects, wrongs = 0, 0\n",
    "        for i in range(len(data)):\n",
    "            res = self.predict(data[i])\n",
    "            res_max = np.argmax(res)\n",
    "            if labels[i][res_max] == 1:\n",
    "                corrects += 1\n",
    "            else : \n",
    "                wrongs += 1\n",
    "\n",
    "        return corrects / (wrongs + corrects)\n",
    "        \n",
    "    \n",
    "    def train_epochs(self, train_data, train_targets, val_data, val_targets, epochs):\n",
    "        \"\"\"\n",
    "        epochs * Entrainements sur tout le dataset et calculs de précision\n",
    "        \n",
    "        Parameters :\n",
    "        train_data (array)\n",
    "        train_targets (array)\n",
    "        test_data (array)\n",
    "        test_targets (array)\n",
    "        epochs (int) : nombre d'époque d'entrainement\n",
    "        \n",
    "        Returns :\n",
    "        list : liste de score par époque\n",
    "        \"\"\"\n",
    "    \n",
    "        accuracies = []\n",
    "        print(\"---- Training on {} epochs ----\\n\".format(epochs))\n",
    "        for epoch in range(epochs):\n",
    "            self.train(train_data, train_targets)\n",
    "            acc = self.accuracy(val_data, val_targetsk)\n",
    "            accuracies.append(acc)\n",
    "            print(\"epoch {} : {}\".format(epoch + 1, acc))\n",
    "        return accuracies"
   ]
  },
  {
   "cell_type": "code",
   "execution_count": 152,
   "metadata": {
    "ExecuteTime": {
     "end_time": "2020-03-13T09:53:55.412202Z",
     "start_time": "2020-03-13T09:53:35.990256Z"
    }
   },
   "outputs": [],
   "source": [
    "NN = NeuralNetwork(784, 50, 10, 0.05)\n",
    "NN.train(train, train_labels)"
   ]
  },
  {
   "cell_type": "code",
   "execution_count": 57,
   "metadata": {
    "ExecuteTime": {
     "end_time": "2020-03-12T18:06:01.597506Z",
     "start_time": "2020-03-12T18:06:00.148358Z"
    }
   },
   "outputs": [
    {
     "data": {
      "text/plain": [
       "0.9202"
      ]
     },
     "execution_count": 57,
     "metadata": {},
     "output_type": "execute_result"
    }
   ],
   "source": [
    "acc = NN.accuracy(test, test_labels)\n",
    "acc"
   ]
  },
  {
   "cell_type": "markdown",
   "metadata": {},
   "source": [
    "## Nombre de perceptrons"
   ]
  },
  {
   "cell_type": "code",
   "execution_count": 59,
   "metadata": {
    "ExecuteTime": {
     "end_time": "2020-03-12T18:15:24.098502Z",
     "start_time": "2020-03-12T18:06:26.322611Z"
    }
   },
   "outputs": [
    {
     "data": {
      "application/vnd.jupyter.widget-view+json": {
       "model_id": "fac8ba5495dc4e6bad8ad586e93a5fc6",
       "version_major": 2,
       "version_minor": 0
      },
      "text/plain": [
       "HBox(children=(FloatProgress(value=0.0, max=10.0), HTML(value='')))"
      ]
     },
     "metadata": {},
     "output_type": "display_data"
    },
    {
     "name": "stdout",
     "output_type": "stream",
     "text": [
      "\n"
     ]
    },
    {
     "data": {
      "image/png": "[encoded data removed]",
      "text/plain": [
       "<Figure size 432x288 with 1 Axes>"
      ]
     },
     "metadata": {},
     "output_type": "display_data"
    }
   ],
   "source": [
    "df_performance = pd.DataFrame(columns = ['#_hidden_perceptrons', 'accuracy'])\n",
    "\n",
    "for i in tqdm(range(10)):\n",
    "    nb_perceptrons = (2*i) * 10 + 1\n",
    "    NN = NeuralNetwork(784, nb_hidden_layers, 10, 0.05)\n",
    "    NN.train(train, train_labels)\n",
    "\n",
    "    df_performance.loc[i,'#_hidden_perceptrons'] = nb_perceptrons\n",
    "    df_performance.loc[i, 'accuracy'] = NN.accuracy(test, test_labels)\n",
    "    \n",
    "plt.plot(df_performance['#_hidden_perceptrons'], df_performance['accuracy'])\n",
    "plt.show();"
   ]
  },
  {
   "cell_type": "markdown",
   "metadata": {},
   "source": [
    "## Epochs"
   ]
  },
  {
   "cell_type": "code",
   "execution_count": 70,
   "metadata": {
    "ExecuteTime": {
     "end_time": "2020-03-12T18:51:12.107206Z",
     "start_time": "2020-03-12T18:47:53.376961Z"
    },
    "scrolled": true
   },
   "outputs": [
    {
     "name": "stdout",
     "output_type": "stream",
     "text": [
      "---- Training on 10 epochs ----\n",
      "\n",
      "epoch 1 : 0.9206\n",
      "epoch 2 : 0.9327\n",
      "epoch 3 : 0.937\n",
      "epoch 4 : 0.9421\n",
      "epoch 5 : 0.9454\n",
      "epoch 6 : 0.9473\n",
      "epoch 7 : 0.9485\n",
      "epoch 8 : 0.9492\n",
      "epoch 9 : 0.9489\n",
      "epoch 10 : 0.9504\n"
     ]
    }
   ],
   "source": [
    "epochs = 10\n",
    "NN = NeuralNetwork(784, 50, 10, 0.05)\n",
    "accuracies = NN.train_epochs(train, train_labels, test, test_labels, epochs)"
   ]
  },
  {
   "cell_type": "code",
   "execution_count": 71,
   "metadata": {
    "ExecuteTime": {
     "end_time": "2020-03-12T18:51:12.293153Z",
     "start_time": "2020-03-12T18:51:12.111710Z"
    }
   },
   "outputs": [
    {
     "data": {
      "image/png": "[encoded data removed]",
      "text/plain": [
       "<Figure size 432x288 with 1 Axes>"
      ]
     },
     "metadata": {},
     "output_type": "display_data"
    }
   ],
   "source": [
    "plt.plot(range(epochs), accuracies)\n",
    "plt.show();"
   ]
  },
  {
   "cell_type": "markdown",
   "metadata": {},
   "source": [
    "# Classifieur à une seule couche cachée (avec biais)"
   ]
  },
  {
   "cell_type": "markdown",
   "metadata": {},
   "source": [
    "On peut implémenter un biais soit :\n",
    "- en ajoutant une valeur (et donc un perceptron) égale à 1 aux données  \n",
    "- en modifiant directement la fonction d''activation (act(x + b))"
   ]
  },
  {
   "cell_type": "code",
   "execution_count": 164,
   "metadata": {
    "ExecuteTime": {
     "end_time": "2020-03-13T09:59:01.025995Z",
     "start_time": "2020-03-13T09:59:00.604999Z"
    }
   },
   "outputs": [],
   "source": [
    "# Pour corriger : \n",
    "# init_matrix : self.W_hl = np.random.normal(0, 1, (self.nb_perceptrons + biais, self.nb_input + biais)) \n",
    "    # (ajouter le biais à self.nb_perceptrons)\n",
    "# train_one : Ne pas ajouter le biais à output_hidden\n",
    "# predict : Ne pas ajouter le biais à hidden_layer\n",
    "\n",
    "class NeuralNetwork_B():\n",
    "    \n",
    "    def __init__(self, nb_input, nb_perceptrons, nb_output, lr, biais):\n",
    "        \n",
    "        # Taille d'une donnée\n",
    "        self.nb_input = nb_input\n",
    "        self.nb_perceptrons = nb_perceptrons   # Nombre de perceptrons dans la couche cachée\n",
    "        self.nb_output = nb_output             # Nombre de classes\n",
    "        self.lr = lr                           # Learning rate\n",
    "        self.biais = biais\n",
    "        self.init_matrix()                     # Méthode d'initialisation des matrices de poids\n",
    "\n",
    "    def init_matrix(self):\n",
    "        \n",
    "        # Poids input -> couche cachée\n",
    "        if self.biais :\n",
    "            biais = 1\n",
    "        else :\n",
    "            biais = 0 \n",
    "        self.W_hl = np.random.normal(0, 1, (self.nb_perceptrons + biais, self.nb_input + biais))\n",
    "        # Poids couche cachée -> output\n",
    "        self.W_o = np.random.normal(0, 1, (self.nb_output, self.nb_perceptrons + biais))\n",
    "\n",
    "        \n",
    "    def train_one(self, input_data, target):\n",
    "        \"\"\"\n",
    "        Entrainement sur une donnée\n",
    "        \"\"\"\n",
    "        \n",
    "        if self.biais : \n",
    "            input_vector = np.array(np.append(input_data, [self.biais]), ndmin=2).T\n",
    "        else :\n",
    "            input_vector = np.array(input_data, ndmin=2).T\n",
    "        target_vector = np.array(target, ndmin=2).T\n",
    "\n",
    "        # Couce cachée + activation\n",
    "        output_vector1 = np.dot(self.W_hl, input_vector) \n",
    "        output_hidden = sigmoid(output_vector1)\n",
    "\n",
    "        #if self.biais :\n",
    "        #    output_hidden = np.array(np.append(output_hidden, [self.biais]))\n",
    "\n",
    "        # Sortie + activation\n",
    "        output_vector2 = np.dot(self.W_o, output_hidden) \n",
    "        output = sigmoid(output_vector2)\n",
    "\n",
    "        # Erreur en sortie\n",
    "        output_errors = target_vector - output\n",
    "\n",
    "        # Retro-propagation\n",
    "        tmp = - output_errors * output * (1. - output)  # expression du gradient\n",
    "\n",
    "            # Couche cachée\n",
    "        tmp = self.lr * np.dot(tmp, output_hidden.T)\n",
    "        self.W_o = self.W_o - tmp \n",
    "        hidden_errors = np.dot(self.W_o.T, output_errors)\n",
    "        \n",
    "            # Input\n",
    "        tmp = - hidden_errors * output_hidden * (1. - output_hidden)\n",
    "        self.W_hl = self.W_hl - self.lr * np.dot(tmp, input_vector.T)\n",
    "    \n",
    "    \n",
    "    def train(self, data, targets):\n",
    "        \"\"\"\n",
    "        Entrainement sur tout le dataset\n",
    "        \"\"\"\n",
    "        for i in range(len(data)):\n",
    "            self.train_one(data[i], targets[i])\n",
    "    \n",
    "    \n",
    "    def predict(self, input_vector):\n",
    "        \"\"\"\n",
    "        Prediction de la classe d'une donnée\n",
    "        \n",
    "        Returns :\n",
    "        array(10,) : résultat par classe\n",
    "        \"\"\"\n",
    "        \n",
    "        if self.biais :\n",
    "            input_vector = np.append(input_vector, [self.biais])\n",
    "        input_vector = np.array(input_vector, ndmin=2).T\n",
    "        \n",
    "        output_vector1 = np.dot(self.W_hl, input_vector)\n",
    "        hidden_layer = sigmoid(output_vector1)\n",
    "        \n",
    "        #if self.biais :\n",
    "        #    hidden_layer = np.append(hidden_layer, self.biais)\n",
    "        \n",
    "        output_vector2 = np.dot(self.W_o, hidden_layer)\n",
    "        output = sigmoid(output_vector2)\n",
    "        \n",
    "        return output\n",
    "    \n",
    "    \n",
    "    def accuracy(self, data, labels):\n",
    "        \"\"\"\n",
    "        Calcul de la précision \n",
    "        \"\"\"\n",
    "        \n",
    "        corrects, wrongs = 0, 0\n",
    "        for i in range(len(data)):\n",
    "            res = self.predict(data[i])\n",
    "            res_max = np.argmax(res)\n",
    "            if labels[i][res_max] == 1:\n",
    "                corrects += 1\n",
    "            else : \n",
    "                wrongs += 1\n",
    "\n",
    "        return corrects / (wrongs + corrects)\n",
    "        \n",
    "    \n",
    "    def train_epochs(self, train_data, train_targets, val_data, val_targets, epochs):\n",
    "        \"\"\"\n",
    "        epochs * Entrainements sur tout le dataset et calculs de précision\n",
    "        \n",
    "        Parameters :\n",
    "        train_data (array)\n",
    "        train_targets (array)\n",
    "        test_data (array)\n",
    "        test_targets (array)\n",
    "        epochs (int) : nombre d'époque d'entrainement\n",
    "        \n",
    "        Returns :\n",
    "        list : liste de score par époque\n",
    "        \"\"\"\n",
    "    \n",
    "        accuracies = []\n",
    "        print(\"---- Training on {} epochs ----\\n\".format(epochs))\n",
    "        for epoch in range(epochs):\n",
    "            self.train(train_data, train_targets)\n",
    "            acc = self.accuracy(val_data, val_targets)\n",
    "            accuracies.append(acc)\n",
    "            print(\"epoch {} : {}\".format(epoch + 1, acc))\n",
    "        return accuracies"
   ]
  },
  {
   "cell_type": "code",
   "execution_count": 160,
   "metadata": {
    "ExecuteTime": {
     "end_time": "2020-03-13T09:57:13.287643Z",
     "start_time": "2020-03-13T09:56:55.650236Z"
    }
   },
   "outputs": [],
   "source": [
    "NNB = NeuralNetwork_B(784, 50, 10, 0.05, 1)\n",
    "NNB.train(train, train_labels)"
   ]
  },
  {
   "cell_type": "code",
   "execution_count": 161,
   "metadata": {
    "ExecuteTime": {
     "end_time": "2020-03-13T09:57:14.785653Z",
     "start_time": "2020-03-13T09:57:13.290365Z"
    }
   },
   "outputs": [
    {
     "data": {
      "text/plain": [
       "0.9185"
      ]
     },
     "execution_count": 161,
     "metadata": {},
     "output_type": "execute_result"
    }
   ],
   "source": [
    "acc = NNB.accuracy(test, test_labels)\n",
    "acc"
   ]
  },
  {
   "cell_type": "code",
   "execution_count": 165,
   "metadata": {
    "ExecuteTime": {
     "end_time": "2020-03-13T10:02:17.549006Z",
     "start_time": "2020-03-13T09:59:04.092144Z"
    }
   },
   "outputs": [
    {
     "name": "stdout",
     "output_type": "stream",
     "text": [
      "---- Training on 10 epochs ----\n",
      "\n",
      "epoch 1 : 0.9142\n",
      "epoch 2 : 0.9298\n",
      "epoch 3 : 0.9384\n",
      "epoch 4 : 0.9434\n",
      "epoch 5 : 0.9462\n",
      "epoch 6 : 0.9502\n",
      "epoch 7 : 0.9522\n",
      "epoch 8 : 0.9531\n",
      "epoch 9 : 0.9543\n",
      "epoch 10 : 0.9546\n"
     ]
    }
   ],
   "source": [
    "epochs = 10\n",
    "NNB = NeuralNetwork_B(784, 50, 10, 0.05, 1)\n",
    "accuracies = NNB.train_epochs(train, train_labels, test, test_labels, epochs)"
   ]
  },
  {
   "cell_type": "code",
   "execution_count": 166,
   "metadata": {
    "ExecuteTime": {
     "end_time": "2020-03-13T10:02:17.882612Z",
     "start_time": "2020-03-13T10:02:17.556824Z"
    }
   },
   "outputs": [
    {
     "data": {
      "image/png": "[encoded data removed]",
      "text/plain": [
       "<Figure size 432x288 with 1 Axes>"
      ]
     },
     "metadata": {},
     "output_type": "display_data"
    }
   ],
   "source": [
    "plt.plot(range(epochs), accuracies)\n",
    "plt.show();"
   ]
  }
 ],
 "metadata": {
  "kernelspec": {
   "display_name": "Python 3",
   "language": "python",
   "name": "python3"
  },
  "language_info": {
   "codemirror_mode": {
    "name": "ipython",
    "version": 3
   },
   "file_extension": ".py",
   "mimetype": "text/x-python",
   "name": "python",
   "nbconvert_exporter": "python",
   "pygments_lexer": "ipython3",
   "version": "3.6.8"
  },
  "toc": {
   "base_numbering": 1,
   "nav_menu": {},
   "number_sections": false,
   "sideBar": true,
   "skip_h1_title": false,
   "title_cell": "Table of Contents",
   "title_sidebar": "Contents",
   "toc_cell": true,
   "toc_position": {},
   "toc_section_display": true,
   "toc_window_display": false
  }
 },
 "nbformat": 4,
 "nbformat_minor": 2
}
